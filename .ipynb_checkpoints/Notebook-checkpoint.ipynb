{
 "cells": [
  {
   "cell_type": "markdown",
   "metadata": {},
   "source": [
    "# Étape 1: Importation des packages nécessaires\n",
    "Ce Notebook contient un projet de classification supervisée conçu pour analyser les données d'un recensement américain.\n",
    "L'objectif est de prédire si le revenu annuel d'un adulte dépasse ou non 50 000 $."
   ]
  },
  {
   "cell_type": "markdown",
   "metadata": {},
   "source": [
    "Nous allons suivre les étapes suivantes:\n",
    "1. Compréhension des données\n",
    "2. Nettoyage des données\n",
    "3. Transformation des données\n",
    "4. Création et validation des modèles\n",
    "5. Comparaison et évaluation des modèles"
   ]
  },
  {
   "cell_type": "markdown",
   "metadata": {},
   "source": [
    "Importation des bibliothèques nécessaires pour la manipulation des données, la visualisation, et le machine learning."
   ]
  },
  {
   "cell_type": "code",
   "execution_count": 1,
   "metadata": {
    "jupyter": {
     "is_executing": true
    }
   },
   "outputs": [],
   "source": [
    "import numpy as np\n",
    "import pandas as pd\n",
    "import matplotlib.pyplot as plt\n",
    "import seaborn as sns"
   ]
  },
  {
   "cell_type": "markdown",
   "metadata": {},
   "source": [
    "Packages pour les algorithmes de machine learning."
   ]
  },
  {
   "cell_type": "code",
   "execution_count": 2,
   "metadata": {
    "jupyter": {
     "is_executing": true
    }
   },
   "outputs": [],
   "source": [
    "from sklearn.model_selection import train_test_split, GridSearchCV\n",
    "from sklearn.preprocessing import LabelEncoder, StandardScaler\n",
    "from sklearn.metrics import accuracy_score, confusion_matrix, classification_report\n",
    "from sklearn.neighbors import KNeighborsClassifier\n",
    "from sklearn.tree import DecisionTreeClassifier\n",
    "from sklearn.neural_network import MLPClassifier"
   ]
  },
  {
   "cell_type": "markdown",
   "metadata": {},
   "source": [
    "## Étape 1: Compréhension des données\n",
    "Dans cette étape, nous allons charger et explorer l'ensemble des données pour comprendre sa structure et ses caractéristiques."
   ]
  },
  {
   "cell_type": "code",
   "execution_count": 3,
   "metadata": {},
   "outputs": [
    {
     "name": "stdout",
     "output_type": "stream",
     "text": [
      "Aperçu initial des 10 premières lignes:\n",
      "   age         workclass  fnlwgt     education  educational-num  \\\n",
      "0   25           Private  226802          11th                7   \n",
      "1   38           Private   89814       HS-grad                9   \n",
      "2   28         Local-gov  336951    Assoc-acdm               12   \n",
      "3   44           Private  160323  Some-college               10   \n",
      "4   18                 ?  103497  Some-college               10   \n",
      "5   34           Private  198693          10th                6   \n",
      "6   29                 ?  227026       HS-grad                9   \n",
      "7   63  Self-emp-not-inc  104626   Prof-school               15   \n",
      "8   24           Private  369667  Some-college               10   \n",
      "9   55           Private  104996       7th-8th                4   \n",
      "\n",
      "       marital-status         occupation   relationship   race  gender  \\\n",
      "0       Never-married  Machine-op-inspct      Own-child  Black    Male   \n",
      "1  Married-civ-spouse    Farming-fishing        Husband  White    Male   \n",
      "2  Married-civ-spouse    Protective-serv        Husband  White    Male   \n",
      "3  Married-civ-spouse  Machine-op-inspct        Husband  Black    Male   \n",
      "4       Never-married                  ?      Own-child  White  Female   \n",
      "5       Never-married      Other-service  Not-in-family  White    Male   \n",
      "6       Never-married                  ?      Unmarried  Black    Male   \n",
      "7  Married-civ-spouse     Prof-specialty        Husband  White    Male   \n",
      "8       Never-married      Other-service      Unmarried  White  Female   \n",
      "9  Married-civ-spouse       Craft-repair        Husband  White    Male   \n",
      "\n",
      "   capital-gain  capital-loss  hours-per-week native-country income  \n",
      "0             0             0              40  United-States  <=50K  \n",
      "1             0             0              50  United-States  <=50K  \n",
      "2             0             0              40  United-States   >50K  \n",
      "3          7688             0              40  United-States   >50K  \n",
      "4             0             0              30  United-States  <=50K  \n",
      "5             0             0              30  United-States  <=50K  \n",
      "6             0             0              40  United-States  <=50K  \n",
      "7          3103             0              32  United-States   >50K  \n",
      "8             0             0              40  United-States  <=50K  \n",
      "9             0             0              10  United-States  <=50K  \n",
      "Statistiques descriptives:\n",
      "                age        fnlwgt  educational-num  capital-gain  \\\n",
      "count  48842.000000  4.884200e+04     48842.000000  48842.000000   \n",
      "mean      38.643585  1.896641e+05        10.078089   1079.067626   \n",
      "std       13.710510  1.056040e+05         2.570973   7452.019058   \n",
      "min       17.000000  1.228500e+04         1.000000      0.000000   \n",
      "25%       28.000000  1.175505e+05         9.000000      0.000000   \n",
      "50%       37.000000  1.781445e+05        10.000000      0.000000   \n",
      "75%       48.000000  2.376420e+05        12.000000      0.000000   \n",
      "max       90.000000  1.490400e+06        16.000000  99999.000000   \n",
      "\n",
      "       capital-loss  hours-per-week  \n",
      "count  48842.000000    48842.000000  \n",
      "mean      87.502314       40.422382  \n",
      "std      403.004552       12.391444  \n",
      "min        0.000000        1.000000  \n",
      "25%        0.000000       40.000000  \n",
      "50%        0.000000       40.000000  \n",
      "75%        0.000000       45.000000  \n",
      "max     4356.000000       99.000000  \n",
      "Types de données et valeurs manquantes:\n",
      "<class 'pandas.core.frame.DataFrame'>\n",
      "RangeIndex: 48842 entries, 0 to 48841\n",
      "Data columns (total 15 columns):\n",
      " #   Column           Non-Null Count  Dtype \n",
      "---  ------           --------------  ----- \n",
      " 0   age              48842 non-null  int64 \n",
      " 1   workclass        48842 non-null  object\n",
      " 2   fnlwgt           48842 non-null  int64 \n",
      " 3   education        48842 non-null  object\n",
      " 4   educational-num  48842 non-null  int64 \n",
      " 5   marital-status   48842 non-null  object\n",
      " 6   occupation       48842 non-null  object\n",
      " 7   relationship     48842 non-null  object\n",
      " 8   race             48842 non-null  object\n",
      " 9   gender           48842 non-null  object\n",
      " 10  capital-gain     48842 non-null  int64 \n",
      " 11  capital-loss     48842 non-null  int64 \n",
      " 12  hours-per-week   48842 non-null  int64 \n",
      " 13  native-country   48842 non-null  object\n",
      " 14  income           48842 non-null  object\n",
      "dtypes: int64(6), object(9)\n",
      "memory usage: 5.6+ MB\n",
      "age                0\n",
      "workclass          0\n",
      "fnlwgt             0\n",
      "education          0\n",
      "educational-num    0\n",
      "marital-status     0\n",
      "occupation         0\n",
      "relationship       0\n",
      "race               0\n",
      "gender             0\n",
      "capital-gain       0\n",
      "capital-loss       0\n",
      "hours-per-week     0\n",
      "native-country     0\n",
      "income             0\n",
      "dtype: int64\n"
     ]
    }
   ],
   "source": [
    "# Chargement de l'ensemble des données depuis le fichier CSV\n",
    "df = pd.read_csv('chemin/vers/adult.csv')\n",
    "\n",
    "# Affichage des 10 premières lignes pour un aperçu initial\n",
    "print(\"Aperçu initial des 10 premières lignes:\")\n",
    "print(df.head(10))\n",
    "\n",
    "# Affichage des statistiques descriptives\n",
    "print(\"Statistiques descriptives:\")\n",
    "print(df.describe())\n",
    "\n",
    "# Affichage des types de données et des valeurs manquantes\n",
    "print(\"Types de données et valeurs manquantes:\")\n",
    "df.info()\n",
    "print(df.isnull().sum())\n"
   ]
  },
  {
   "cell_type": "markdown",
   "metadata": {},
   "source": [
    "## Étape 2: Nettoyage des données\n",
    "Dans cette section, nous allons traiter les valeurs manquantes pour garantir la qualité de nos données.\n"
   ]
  },
  {
   "cell_type": "code",
   "execution_count": 4,
   "metadata": {
    "jupyter": {
     "is_executing": true
    },
    "scrolled": true
   },
   "outputs": [],
   "source": [
    "# Suppression des lignes contenant des valeurs manquantes\n",
    "df.dropna(inplace=True)"
   ]
  },
  {
   "cell_type": "code",
   "execution_count": 5,
   "metadata": {},
   "outputs": [],
   "source": [
    "# Remplissage des valeurs manquantes pour 'educational-num' avec sa médiane\n",
    "df['educational-num'] = df['educational-num'].fillna(df['educational-num'].median())"
   ]
  },
  {
   "cell_type": "markdown",
   "metadata": {},
   "source": [
    "### Étape 4: Transformation des données\n",
    "Nous allons encoder les variables catégorielles en numériques et normaliser les colonnes pour préparer les données à l'entraînement des modèles."
   ]
  },
  {
   "cell_type": "code",
   "execution_count": 6,
   "metadata": {},
   "outputs": [],
   "source": [
    "# Encodage des variables catégorielles\n",
    "le = LabelEncoder()\n",
    "df['workclass'] = le.fit_transform(df['workclass'])\n",
    "df['income'] = le.fit_transform(df['income'])\n",
    "# Normalisation des colonnes numériques\n",
    "scaler = StandardScaler()\n",
    "df[['age', 'fnlwgt', 'capital-gain', 'capital-loss', 'hours-per-week']] = scaler.fit_transform(df[['age', 'fnlwgt', 'capital-gain', 'capital-loss', 'hours-per-week']])\n"
   ]
  },
  {
   "cell_type": "markdown",
   "metadata": {},
   "source": [
    "## Étape 3: Transformation des données\n",
    "Ici, nous allons préparer les données pour l'entraînement en encodant les variables catégorielles et en normalisant les colonnes numériques."
   ]
  },
  {
   "cell_type": "code",
   "execution_count": 7,
   "metadata": {},
   "outputs": [
    {
     "name": "stdout",
     "output_type": "stream",
     "text": [
      "Colonnes catégorielles: Index(['education', 'marital-status', 'occupation', 'relationship', 'race',\n",
      "       'gender', 'native-country'],\n",
      "      dtype='object')\n",
      "<class 'pandas.core.frame.DataFrame'>\n",
      "RangeIndex: 48842 entries, 0 to 48841\n",
      "Data columns (total 15 columns):\n",
      " #   Column           Non-Null Count  Dtype  \n",
      "---  ------           --------------  -----  \n",
      " 0   age              48842 non-null  float64\n",
      " 1   workclass        48842 non-null  int32  \n",
      " 2   fnlwgt           48842 non-null  float64\n",
      " 3   education        48842 non-null  int32  \n",
      " 4   educational-num  48842 non-null  int64  \n",
      " 5   marital-status   48842 non-null  int32  \n",
      " 6   occupation       48842 non-null  int32  \n",
      " 7   relationship     48842 non-null  int32  \n",
      " 8   race             48842 non-null  int32  \n",
      " 9   gender           48842 non-null  int32  \n",
      " 10  capital-gain     48842 non-null  float64\n",
      " 11  capital-loss     48842 non-null  float64\n",
      " 12  hours-per-week   48842 non-null  float64\n",
      " 13  native-country   48842 non-null  int32  \n",
      " 14  income           48842 non-null  int32  \n",
      "dtypes: float64(5), int32(9), int64(1)\n",
      "memory usage: 3.9 MB\n"
     ]
    }
   ],
   "source": [
    "# Identifier les colonnes catégorielles\n",
    "categorical_cols = df.select_dtypes(include=['object']).columns\n",
    "\n",
    "# Afficher les colonnes catégorielles\n",
    "print(\"Colonnes catégorielles:\", categorical_cols)\n",
    "\n",
    "# Appliquer l'encodage pour toutes les colonnes catégorielles restantes\n",
    "le = LabelEncoder()\n",
    "for col in categorical_cols:\n",
    "    df[col] = le.fit_transform(df[col])\n",
    "\n",
    "# Vérifier les types de données pour s'assurer que toutes les colonnes sont numériques\n",
    "df.info()\n",
    "\n"
   ]
  },
  {
   "cell_type": "markdown",
   "metadata": {},
   "source": [
    "## Étape 4: Création et entraînement des modèles\n",
    "Nous allons créer et entraîner trois modèles de classification : k-NN, Arbre de décision, et MLP."
   ]
  },
  {
   "cell_type": "code",
   "execution_count": 134,
   "metadata": {},
   "outputs": [
    {
     "name": "stdout",
     "output_type": "stream",
     "text": [
      "Évaluation du modèle k-NN:\n",
      "              precision    recall  f1-score   support\n",
      "\n",
      "           0       0.88      0.90      0.89      7479\n",
      "           1       0.65      0.58      0.61      2290\n",
      "\n",
      "    accuracy                           0.83      9769\n",
      "   macro avg       0.76      0.74      0.75      9769\n",
      "weighted avg       0.82      0.83      0.82      9769\n",
      "\n",
      "Évaluation de l'arbre de décision:\n",
      "              precision    recall  f1-score   support\n",
      "\n",
      "           0       0.88      0.87      0.88      7479\n",
      "           1       0.60      0.62      0.61      2290\n",
      "\n",
      "    accuracy                           0.82      9769\n",
      "   macro avg       0.74      0.75      0.75      9769\n",
      "weighted avg       0.82      0.82      0.82      9769\n",
      "\n",
      "Évaluation du MLP après ajustements :\n",
      "              precision    recall  f1-score   support\n",
      "\n",
      "           0       0.87      0.95      0.91      7479\n",
      "           1       0.78      0.54      0.64      2290\n",
      "\n",
      "    accuracy                           0.86      9769\n",
      "   macro avg       0.82      0.75      0.77      9769\n",
      "weighted avg       0.85      0.86      0.85      9769\n",
      "\n"
     ]
    }
   ],
   "source": [
    "# Division des données en ensembles d'entraînement et de test\n",
    "X_train, X_test, y_train, y_test = train_test_split(df.drop('income', axis=1), df['income'], test_size=0.2, random_state=42)\n",
    "\n",
    "# Création et entraînement du modèle k-NN\n",
    "knn = KNeighborsClassifier(n_neighbors=5)\n",
    "knn.fit(X_train, y_train)\n",
    "\n",
    "# Création et entraînement de l'arbre de décision\n",
    "tree = DecisionTreeClassifier(random_state=42)\n",
    "tree.fit(X_train, y_train)\n",
    "\n",
    "mlp = MLPClassifier(random_state=42, max_iter=500, learning_rate_init=0.01)\n",
    "mlp.fit(X_train, y_train)\n",
    "\n",
    "# Évaluation des modèles\n",
    "print(\"Évaluation du modèle k-NN:\")\n",
    "print(classification_report(y_test, knn.predict(X_test)))\n",
    "\n",
    "print(\"Évaluation de l'arbre de décision:\")\n",
    "print(classification_report(y_test, tree.predict(X_test)))\n",
    "\n",
    "# Évaluation du modèle MLP après ajustements\n",
    "print(\"Évaluation du MLP après ajustements :\")\n",
    "print(classification_report(y_test, mlp.predict(X_test)))\n",
    "\n",
    "\n"
   ]
  },
  {
   "cell_type": "markdown",
   "metadata": {},
   "source": [
    "## Étape 5: Comparaison et évaluation des modèles\n",
    "Nous allons comparer les performances des différents modèles et choisir le meilleur pour notre application.\n"
   ]
  },
  {
   "cell_type": "code",
   "execution_count": 135,
   "metadata": {},
   "outputs": [
    {
     "name": "stdout",
     "output_type": "stream",
     "text": [
      "Évaluation du modèle k-NN:\n",
      "              precision    recall  f1-score   support\n",
      "\n",
      "           0       0.88      0.90      0.89      7479\n",
      "           1       0.65      0.58      0.61      2290\n",
      "\n",
      "    accuracy                           0.83      9769\n",
      "   macro avg       0.76      0.74      0.75      9769\n",
      "weighted avg       0.82      0.83      0.82      9769\n",
      "\n",
      "Matrice de confusion:\n",
      "[[6752  727]\n",
      " [ 961 1329]]\n",
      "Évaluation de l'arbre de décision:\n",
      "              precision    recall  f1-score   support\n",
      "\n",
      "           0       0.88      0.87      0.88      7479\n",
      "           1       0.60      0.62      0.61      2290\n",
      "\n",
      "    accuracy                           0.82      9769\n",
      "   macro avg       0.74      0.75      0.75      9769\n",
      "weighted avg       0.82      0.82      0.82      9769\n",
      "\n",
      "Matrice de confusion:\n",
      "[[6542  937]\n",
      " [ 866 1424]]\n",
      "Évaluation du MLP:\n",
      "              precision    recall  f1-score   support\n",
      "\n",
      "           0       0.87      0.95      0.91      7479\n",
      "           1       0.78      0.54      0.64      2290\n",
      "\n",
      "    accuracy                           0.86      9769\n",
      "   macro avg       0.82      0.75      0.77      9769\n",
      "weighted avg       0.85      0.86      0.85      9769\n",
      "\n",
      "Matrice de confusion:\n",
      "[[7128  351]\n",
      " [1060 1230]]\n",
      "Précision du modèle k-NN: 0.8272085167366158\n",
      "Précision de l'arbre de décision: 0.8154365851161839\n",
      "Précision du MLP: 0.8555635172484389\n",
      "Le meilleur modèle est MLP avec une précision de 0.8555635172484389\n"
     ]
    }
   ],
   "source": [
    "# Importation des métriques nécessaires\n",
    "from sklearn.metrics import accuracy_score, confusion_matrix, classification_report\n",
    "\n",
    "# Évaluation du modèle k-NN\n",
    "knn_predictions = knn.predict(X_test)\n",
    "print(\"Évaluation du modèle k-NN:\")\n",
    "print(classification_report(y_test, knn_predictions))\n",
    "print(\"Matrice de confusion:\")\n",
    "print(confusion_matrix(y_test, knn_predictions))\n",
    "\n",
    "# Évaluation de l'arbre de décision\n",
    "tree_predictions = tree.predict(X_test)\n",
    "print(\"Évaluation de l'arbre de décision:\")\n",
    "print(classification_report(y_test, tree_predictions))\n",
    "print(\"Matrice de confusion:\")\n",
    "print(confusion_matrix(y_test, tree_predictions))\n",
    "\n",
    "# Évaluation du MLP\n",
    "mlp_predictions = mlp.predict(X_test)\n",
    "print(\"Évaluation du MLP:\")\n",
    "print(classification_report(y_test, mlp_predictions))\n",
    "print(\"Matrice de confusion:\")\n",
    "print(confusion_matrix(y_test, mlp_predictions))\n",
    "\n",
    "# Comparaison des précisions\n",
    "knn_accuracy = accuracy_score(y_test, knn_predictions)\n",
    "tree_accuracy = accuracy_score(y_test, tree_predictions)\n",
    "mlp_accuracy = accuracy_score(y_test, mlp_predictions)\n",
    "\n",
    "print(\"Précision du modèle k-NN:\", knn_accuracy)\n",
    "print(\"Précision de l'arbre de décision:\", tree_accuracy)\n",
    "print(\"Précision du MLP:\", mlp_accuracy)\n",
    "\n",
    "# Choix du meilleur modèle\n",
    "best_model = max(knn_accuracy, tree_accuracy, mlp_accuracy)\n",
    "if best_model == knn_accuracy:\n",
    "    print(\"Le meilleur modèle est k-NN avec une précision de\", knn_accuracy)\n",
    "elif best_model == tree_accuracy:\n",
    "    print(\"Le meilleur modèle est l'Arbre de décision avec une précision de\", tree_accuracy)\n",
    "else:\n",
    "    print(\"Le meilleur modèle est MLP avec une précision de\", mlp_accuracy)\n"
   ]
  },
  {
   "cell_type": "code",
   "execution_count": null,
   "metadata": {},
   "outputs": [],
   "source": []
  }
 ],
 "metadata": {
  "kernelspec": {
   "display_name": "Python 3 (ipykernel)",
   "language": "python",
   "name": "python3"
  },
  "language_info": {
   "codemirror_mode": {
    "name": "ipython",
    "version": 3
   },
   "file_extension": ".py",
   "mimetype": "text/x-python",
   "name": "python",
   "nbconvert_exporter": "python",
   "pygments_lexer": "ipython3",
   "version": "3.12.3"
  }
 },
 "nbformat": 4,
 "nbformat_minor": 4
}
